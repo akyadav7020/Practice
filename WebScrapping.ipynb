{
 "cells": [
  {
   "cell_type": "code",
   "execution_count": 1,
   "metadata": {},
   "outputs": [],
   "source": [
    "#pip install selenium"
   ]
  },
  {
   "cell_type": "code",
   "execution_count": 2,
   "metadata": {},
   "outputs": [],
   "source": [
    "from selenium import webdriver\n",
    "from bs4 import BeautifulSoup\n",
    "import time"
   ]
  },
  {
   "cell_type": "code",
   "execution_count": 3,
   "metadata": {},
   "outputs": [],
   "source": [
    "url = \"https://www.youtube.com/aashiqui2/videos\""
   ]
  },
  {
   "cell_type": "code",
   "execution_count": 25,
   "metadata": {},
   "outputs": [],
   "source": [
    "def scroll_to_end(wd, sleep_between_interactions):\n",
    "    \"\"\"\n",
    "    :param wd: give driver name {\"wd = webdriver.Chrome()\" and \"wd = webdriver.FirefoxOptions()\"}\n",
    "    :param sleep_between_interactions: fix the time sleep value according to your network connection\n",
    "    :return: scroll down to the end of your page\n",
    "    \"\"\"\n",
    "    prev_h = 0\n",
    "    while prev_h<1000:\n",
    "        height = wd.execute_script(\"\"\"\n",
    "                    function getActualHeight() {\n",
    "                        return Math.max(\n",
    "                            Math.max(document.body.scrollHeight, document.documentElement.scrollHeight),\n",
    "                            Math.max(document.body.offsetHeight, document.documentElement.offsetHeight),\n",
    "                            Math.max(document.body.clientHeight, document.documentElement.clientHeight)\n",
    "                        );\n",
    "                    }\n",
    "                    return getActualHeight();\n",
    "                \"\"\")\n",
    "        wd.execute_script(f\"window.scrollTo({prev_h},{prev_h + 200})\")\n",
    "        # fix the time sleep value according to your network connection\n",
    "        time.sleep(sleep_between_interactions)\n",
    "        prev_h += 200\n",
    "        if prev_h >= height:\n",
    "            break"
   ]
  },
  {
   "cell_type": "code",
   "execution_count": 26,
   "metadata": {},
   "outputs": [],
   "source": [
    "wd = webdriver.Chrome()\n",
    "wd.get(url)\n",
    "wd.maximize_window()\n",
    "scroll_to_end(wd, 1)\n",
    "#content1=wd.page_source\n",
    "time.sleep(5)\n",
    "content=wd.page_source.encode(\"utf-8\").strip()\n",
    "soup=BeautifulSoup(content,'html')\n",
    "wd.close()"
   ]
  },
  {
   "cell_type": "code",
   "execution_count": 27,
   "metadata": {},
   "outputs": [
    {
     "data": {
      "text/plain": [
       "0"
      ]
     },
     "execution_count": 27,
     "metadata": {},
     "output_type": "execute_result"
    }
   ],
   "source": [
    "video_titles=soup.find_all('a',id='video-title')\n",
    "len(video_titles)"
   ]
  },
  {
   "cell_type": "code",
   "execution_count": 8,
   "metadata": {},
   "outputs": [
    {
     "data": {
      "text/plain": [
       "0"
      ]
     },
     "execution_count": 8,
     "metadata": {},
     "output_type": "execute_result"
    }
   ],
   "source": [
    "video=soup.find_all('a',class_={\"yt-simple-endpoint style-scope ytd-grid-video-renderer\"})\n",
    "len(video)"
   ]
  },
  {
   "cell_type": "code",
   "execution_count": 9,
   "metadata": {},
   "outputs": [
    {
     "data": {
      "text/plain": [
       "0"
      ]
     },
     "execution_count": 9,
     "metadata": {},
     "output_type": "execute_result"
    }
   ],
   "source": [
    "video1=soup.find_all(class_=\"yt-simple-endpoint style-scope ytd-grid-video-renderer\")\n",
    "len(video1)"
   ]
  },
  {
   "cell_type": "code",
   "execution_count": 10,
   "metadata": {},
   "outputs": [
    {
     "data": {
      "text/plain": [
       "0"
      ]
     },
     "execution_count": 10,
     "metadata": {},
     "output_type": "execute_result"
    }
   ],
   "source": [
    "video2=soup.find_all(\"a\",{\"class\":\"yt-simple-endpoint style-scope ytd-grid-video-renderer\"})\n",
    "len(video2)"
   ]
  },
  {
   "cell_type": "code",
   "execution_count": 11,
   "metadata": {},
   "outputs": [],
   "source": [
    "#video[1].text"
   ]
  },
  {
   "cell_type": "code",
   "execution_count": 12,
   "metadata": {},
   "outputs": [
    {
     "data": {
      "text/plain": [
       "[]"
      ]
     },
     "execution_count": 12,
     "metadata": {},
     "output_type": "execute_result"
    }
   ],
   "source": [
    "all_titles=[]\n",
    "for i in video1:\n",
    "    all_titles.append(i.text)\n",
    "all_titles"
   ]
  },
  {
   "cell_type": "code",
   "execution_count": 13,
   "metadata": {},
   "outputs": [
    {
     "ename": "IndexError",
     "evalue": "list index out of range",
     "output_type": "error",
     "traceback": [
      "\u001b[1;31m---------------------------------------------------------------------------\u001b[0m",
      "\u001b[1;31mIndexError\u001b[0m                                Traceback (most recent call last)",
      "\u001b[1;32m<ipython-input-13-529b23f05932>\u001b[0m in \u001b[0;36m<module>\u001b[1;34m\u001b[0m\n\u001b[1;32m----> 1\u001b[1;33m \u001b[0mvideo\u001b[0m\u001b[1;33m[\u001b[0m\u001b[1;36m1\u001b[0m\u001b[1;33m]\u001b[0m\u001b[1;33m\u001b[0m\u001b[1;33m\u001b[0m\u001b[0m\n\u001b[0m",
      "\u001b[1;31mIndexError\u001b[0m: list index out of range"
     ]
    }
   ],
   "source": [
    "video[1]"
   ]
  },
  {
   "cell_type": "code",
   "execution_count": null,
   "metadata": {},
   "outputs": [],
   "source": [
    "vd_ids=[]\n",
    "for i in video:\n",
    "    vd_ids.append(i[\"href\"].split('=')[-1])\n",
    "vd_ids"
   ]
  },
  {
   "cell_type": "code",
   "execution_count": null,
   "metadata": {},
   "outputs": [],
   "source": [
    "video_url=\"https://www.youtube.com\"+video[1][\"href\"]\n",
    "video_url"
   ]
  },
  {
   "cell_type": "code",
   "execution_count": null,
   "metadata": {},
   "outputs": [],
   "source": [
    "all_urls=[]\n",
    "for i in video1:\n",
    "    all_urls.append(\"https://www.youtube.com\"+str(i[\"href\"]))\n",
    "all_urls"
   ]
  },
  {
   "cell_type": "code",
   "execution_count": null,
   "metadata": {},
   "outputs": [],
   "source": [
    "thumbnails=[]\n",
    "for i in vd_ids:\n",
    "    thumbnails.append(\"https://i.ytimg.com/vi/{}/hqdefault.jpg\".format(i))\n",
    "thumbnails"
   ]
  },
  {
   "cell_type": "code",
   "execution_count": null,
   "metadata": {},
   "outputs": [],
   "source": [
    "l=soup.find_all(\"div\",id=\"metadata-line\",class_=\"style-scope ytd-grid-video-renderer\")\n",
    "l[0].find_all(\"span\")[0].text"
   ]
  },
  {
   "cell_type": "code",
   "execution_count": null,
   "metadata": {},
   "outputs": [],
   "source": [
    "views=[]\n",
    "for i in l:\n",
    "    views.append(i.find_all(\"span\")[0].text.split()[0])\n",
    "views"
   ]
  },
  {
   "cell_type": "code",
   "execution_count": null,
   "metadata": {},
   "outputs": [],
   "source": [
    "times=[]\n",
    "for i in l:\n",
    "    times.append(i.find_all(\"span\")[1].text)\n",
    "times"
   ]
  },
  {
   "cell_type": "code",
   "execution_count": null,
   "metadata": {},
   "outputs": [],
   "source": [
    "channel=soup.find_all(\"div\",id=\"text-container\")\n",
    "ch_name=channel[0].text.split(\"\\n\")[1]\n",
    "ch_name"
   ]
  },
  {
   "cell_type": "code",
   "execution_count": null,
   "metadata": {},
   "outputs": [],
   "source": [
    "subscribers=soup.find_all(\"yt-formatted-string\",id=\"subscriber-count\")\n",
    "subscriber=subscribers[0].text\n",
    "subscriber"
   ]
  },
  {
   "cell_type": "code",
   "execution_count": null,
   "metadata": {},
   "outputs": [],
   "source": [
    "img = soup.find_all(id=\"avatar\",class_=\"style-scope ytd-c4-tabbed-header-renderer no-transition\")\n",
    "len(img)"
   ]
  },
  {
   "cell_type": "code",
   "execution_count": null,
   "metadata": {},
   "outputs": [],
   "source": [
    "img"
   ]
  },
  {
   "cell_type": "code",
   "execution_count": null,
   "metadata": {},
   "outputs": [],
   "source": [
    "channel_icon=img[0].find(class_=\"style-scope yt-img-shadow\")[\"src\"]\n",
    "channel_icon"
   ]
  },
  {
   "cell_type": "code",
   "execution_count": null,
   "metadata": {
    "scrolled": true
   },
   "outputs": [],
   "source": [
    "print(ch_name)\n",
    "print(subscriber)\n",
    "print(channel_icon)\n",
    "print(all_urls)\n",
    "print(all_titles)\n",
    "print(views)\n",
    "print(times)"
   ]
  },
  {
   "cell_type": "code",
   "execution_count": null,
   "metadata": {},
   "outputs": [],
   "source": []
  },
  {
   "cell_type": "code",
   "execution_count": null,
   "metadata": {},
   "outputs": [],
   "source": []
  }
 ],
 "metadata": {
  "kernelspec": {
   "display_name": "Python 3",
   "language": "python",
   "name": "python3"
  },
  "language_info": {
   "codemirror_mode": {
    "name": "ipython",
    "version": 3
   },
   "file_extension": ".py",
   "mimetype": "text/x-python",
   "name": "python",
   "nbconvert_exporter": "python",
   "pygments_lexer": "ipython3",
   "version": "3.7.6"
  }
 },
 "nbformat": 4,
 "nbformat_minor": 4
}
